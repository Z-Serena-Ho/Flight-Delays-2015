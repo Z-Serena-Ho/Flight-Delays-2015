{
 "cells": [
  {
   "cell_type": "code",
   "execution_count": 58,
   "metadata": {},
   "outputs": [
    {
     "name": "stderr",
     "output_type": "stream",
     "text": [
      "C:\\Users\\zsere\\AppData\\Local\\Temp\\ipykernel_2840\\3462445361.py:8: DtypeWarning: Columns (7,8) have mixed types. Specify dtype option on import or set low_memory=False.\n",
      "  df_delays = pd.read_csv(r'C:/Users/zsere/Documents/Raw Data/Flight Delays 2015/flights.csv')\n"
     ]
    }
   ],
   "source": [
    "import pandas as pd\n",
    "import numpy as np\n",
    "\n",
    "import matplotlib.pyplot as plt\n",
    "import seaborn as sns\n",
    "\n",
    "df_tweets = pd.read_csv(r'C:/Users/zsere/Documents/Raw Data/Airline Sentiments on Twitter (February 2015)/Tweets.csv')\n",
    "df_delays = pd.read_csv(r'C:/Users/zsere/Documents/Raw Data/Flight Delays 2015/flights.csv')"
   ]
  },
  {
   "cell_type": "code",
   "execution_count": 59,
   "metadata": {},
   "outputs": [
    {
     "name": "stdout",
     "output_type": "stream",
     "text": [
      "AIRLINE\n",
      "AA    39835\n",
      "DL    60884\n",
      "UA    36235\n",
      "US    30153\n",
      "VX     4223\n",
      "WN    90172\n",
      "dtype: int64\n"
     ]
    }
   ],
   "source": [
    "df_trim = df_delays[['MONTH', 'DAY', 'DAY_OF_WEEK', 'AIRLINE', 'ORIGIN_AIRPORT', 'DESTINATION_AIRPORT']]\n",
    "\n",
    "#First remove anything outside of February. Then remove any airline not also in the Twitter list.\n",
    "df_february = df_trim.where(df_delays['MONTH'] == 2.0).dropna()\n",
    "df_february = (df_february.where(df_february['AIRLINE'].isin({'AA', 'DL', 'WN', 'US', 'UA', 'VX'}))).dropna()\n",
    "\n",
    "print(df_february.groupby('AIRLINE').size())"
   ]
  },
  {
   "cell_type": "code",
   "execution_count": 60,
   "metadata": {},
   "outputs": [
    {
     "name": "stdout",
     "output_type": "stream",
     "text": [
      "airline         airline_sentiment\n",
      "American        negative             1960\n",
      "                neutral               463\n",
      "                positive              336\n",
      "Delta           negative              955\n",
      "                neutral               723\n",
      "                positive              544\n",
      "Southwest       negative             1186\n",
      "                neutral               664\n",
      "                positive              570\n",
      "US Airways      negative             2263\n",
      "                neutral               381\n",
      "                positive              269\n",
      "United          negative             2633\n",
      "                neutral               697\n",
      "                positive              492\n",
      "Virgin America  negative              181\n",
      "                neutral               171\n",
      "                positive              152\n",
      "dtype: int64\n"
     ]
    }
   ],
   "source": [
    "df_sentiment = df_tweets.groupby(['airline', 'airline_sentiment']).size()\n",
    "print(df_sentiment)"
   ]
  },
  {
   "cell_type": "code",
   "execution_count": 61,
   "metadata": {},
   "outputs": [
    {
     "name": "stdout",
     "output_type": "stream",
     "text": [
      "airline         negativereason             \n",
      "American        Bad Flight                      87\n",
      "                Can't Tell                     198\n",
      "                Cancelled Flight               246\n",
      "                Customer Service Issue         768\n",
      "                Damaged Luggage                 12\n",
      "                Flight Attendant Complaints     87\n",
      "                Flight Booking Problems        130\n",
      "                Late Flight                    249\n",
      "                Lost Luggage                   149\n",
      "                longlines                       34\n",
      "Delta           Bad Flight                      64\n",
      "                Can't Tell                     186\n",
      "                Cancelled Flight                51\n",
      "                Customer Service Issue         199\n",
      "                Damaged Luggage                 11\n",
      "                Flight Attendant Complaints     60\n",
      "                Flight Booking Problems         44\n",
      "                Late Flight                    269\n",
      "                Lost Luggage                    57\n",
      "                longlines                       14\n",
      "Southwest       Bad Flight                      90\n",
      "                Can't Tell                     159\n",
      "                Cancelled Flight               162\n",
      "                Customer Service Issue         391\n",
      "                Damaged Luggage                 14\n",
      "                Flight Attendant Complaints     38\n",
      "                Flight Booking Problems         61\n",
      "                Late Flight                    152\n",
      "                Lost Luggage                    90\n",
      "                longlines                       29\n",
      "US Airways      Bad Flight                     104\n",
      "                Can't Tell                     246\n",
      "                Cancelled Flight               189\n",
      "                Customer Service Issue         811\n",
      "                Damaged Luggage                 11\n",
      "                Flight Attendant Complaints    123\n",
      "                Flight Booking Problems        122\n",
      "                Late Flight                    453\n",
      "                Lost Luggage                   154\n",
      "                longlines                       50\n",
      "United          Bad Flight                     216\n",
      "                Can't Tell                     379\n",
      "                Cancelled Flight               181\n",
      "                Customer Service Issue         681\n",
      "                Damaged Luggage                 22\n",
      "                Flight Attendant Complaints    168\n",
      "                Flight Booking Problems        144\n",
      "                Late Flight                    525\n",
      "                Lost Luggage                   269\n",
      "                longlines                       48\n",
      "Virgin America  Bad Flight                      19\n",
      "                Can't Tell                      22\n",
      "                Cancelled Flight                18\n",
      "                Customer Service Issue          60\n",
      "                Damaged Luggage                  4\n",
      "                Flight Attendant Complaints      5\n",
      "                Flight Booking Problems         28\n",
      "                Late Flight                     17\n",
      "                Lost Luggage                     5\n",
      "                longlines                        3\n",
      "dtype: int64\n"
     ]
    }
   ],
   "source": [
    "df_reasoning = df_tweets.groupby(['airline', 'negativereason']).size()\n",
    "print(df_reasoning)"
   ]
  }
 ],
 "metadata": {
  "kernelspec": {
   "display_name": "base",
   "language": "python",
   "name": "python3"
  },
  "language_info": {
   "codemirror_mode": {
    "name": "ipython",
    "version": 3
   },
   "file_extension": ".py",
   "mimetype": "text/x-python",
   "name": "python",
   "nbconvert_exporter": "python",
   "pygments_lexer": "ipython3",
   "version": "3.11.4"
  }
 },
 "nbformat": 4,
 "nbformat_minor": 2
}
